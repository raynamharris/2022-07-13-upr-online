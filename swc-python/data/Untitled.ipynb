{
 "cells": [
  {
   "cell_type": "code",
   "execution_count": 1,
   "metadata": {},
   "outputs": [],
   "source": [
    "import numpy"
   ]
  },
  {
   "cell_type": "code",
   "execution_count": 4,
   "metadata": {},
   "outputs": [
    {
     "data": {
      "text/plain": [
       "array([[0., 0., 1., ..., 3., 0., 0.],\n",
       "       [0., 1., 2., ..., 1., 0., 1.],\n",
       "       [0., 1., 1., ..., 2., 1., 1.],\n",
       "       ...,\n",
       "       [0., 1., 1., ..., 1., 1., 1.],\n",
       "       [0., 0., 0., ..., 0., 2., 0.],\n",
       "       [0., 0., 1., ..., 1., 1., 0.]])"
      ]
     },
     "execution_count": 4,
     "metadata": {},
     "output_type": "execute_result"
    }
   ],
   "source": [
    "numpy.loadtxt(\"./inflammation-01.csv\", delimiter=',')"
   ]
  },
  {
   "cell_type": "code",
   "execution_count": 5,
   "metadata": {},
   "outputs": [],
   "source": [
    "df =  numpy.loadtxt(\"./inflammation-01.csv\", delimiter=',')"
   ]
  },
  {
   "cell_type": "code",
   "execution_count": 6,
   "metadata": {},
   "outputs": [
    {
     "data": {
      "text/plain": [
       "array([[0., 0., 1., ..., 3., 0., 0.],\n",
       "       [0., 1., 2., ..., 1., 0., 1.],\n",
       "       [0., 1., 1., ..., 2., 1., 1.],\n",
       "       ...,\n",
       "       [0., 1., 1., ..., 1., 1., 1.],\n",
       "       [0., 0., 0., ..., 0., 2., 0.],\n",
       "       [0., 0., 1., ..., 1., 1., 0.]])"
      ]
     },
     "execution_count": 6,
     "metadata": {},
     "output_type": "execute_result"
    }
   ],
   "source": [
    "df"
   ]
  },
  {
   "cell_type": "code",
   "execution_count": 7,
   "metadata": {},
   "outputs": [],
   "source": [
    "import pandas as pd"
   ]
  },
  {
   "cell_type": "code",
   "execution_count": 8,
   "metadata": {},
   "outputs": [],
   "source": [
    "import pandas as mlp"
   ]
  },
  {
   "cell_type": "code",
   "execution_count": 9,
   "metadata": {},
   "outputs": [],
   "source": [
    "data = numpy.loadtxt(fname='inflammation-01.csv', delimiter=',')"
   ]
  },
  {
   "cell_type": "code",
   "execution_count": 11,
   "metadata": {},
   "outputs": [
    {
     "data": {
      "image/png": "[encoded data removed]",
      "text/plain": [
       "<Figure size 432x288 with 1 Axes>"
      ]
     },
     "metadata": {
      "needs_background": "light"
     },
     "output_type": "display_data"
    }
   ],
   "source": [
    "import matplotlib.pyplot as plt\n",
    "image = plt.imshow(data)\n",
    "plt.show()"
   ]
  },
  {
   "cell_type": "code",
   "execution_count": 12,
   "metadata": {},
   "outputs": [
    {
     "name": "stdout",
     "output_type": "stream",
     "text": [
      "Help on function imshow in module matplotlib.pyplot:\n",
      "\n",
      "imshow(X, cmap=None, norm=None, aspect=None, interpolation=None, alpha=None, vmin=None, vmax=None, origin=None, extent=None, shape=<deprecated parameter>, filternorm=1, filterrad=4.0, imlim=<deprecated parameter>, resample=None, url=None, *, data=None, **kwargs)\n",
      "    Display an image, i.e. data on a 2D regular raster.\n",
      "    \n",
      "    Parameters\n",
      "    ----------\n",
      "    X : array-like or PIL image\n",
      "        The image data. Supported array shapes are:\n",
      "    \n",
      "        - (M, N): an image with scalar data. The data is visualized\n",
      "          using a colormap.\n",
      "        - (M, N, 3): an image with RGB values (0-1 float or 0-255 int).\n",
      "        - (M, N, 4): an image with RGBA values (0-1 float or 0-255 int),\n",
      "          i.e. including transparency.\n",
      "    \n",
      "        The first two dimensions (M, N) define the rows and columns of\n",
      "        the image.\n",
      "    \n",
      "        Out-of-range RGB(A) values are clipped.\n",
      "    \n",
      "    cmap : str or `~matplotlib.colors.Colormap`, optional\n",
      "        The Colormap instance or registered colormap name used to map\n",
      "        scalar data to colors. This parameter is ignored for RGB(A) data.\n",
      "        Defaults to :rc:`image.cmap`.\n",
      "    \n",
      "    norm : `~matplotlib.colors.Normalize`, optional\n",
      "        The `Normalize` instance used to scale scalar data to the [0, 1]\n",
      "        range before mapping to colors using *cmap*. By default, a linear\n",
      "        scaling mapping the lowest value to 0 and the highest to 1 is used.\n",
      "        This parameter is ignored for RGB(A) data.\n",
      "    \n",
      "    aspect : {'equal', 'auto'} or float, optional\n",
      "        Controls the aspect ratio of the axes. The aspect is of particular\n",
      "        relevance for images since it may distort the image, i.e. pixel\n",
      "        will not be square.\n",
      "    \n",
      "        This parameter is a shortcut for explicitly calling\n",
      "        `.Axes.set_aspect`. See there for further details.\n",
      "    \n",
      "        - 'equal': Ensures an aspect ratio of 1. Pixels will be square\n",
      "          (unless pixel sizes are explicitly made non-square in data\n",
      "          coordinates using *extent*).\n",
      "        - 'auto': The axes is kept fixed and the aspect is adjusted so\n",
      "          that the data fit in the axes. In general, this will result in\n",
      "          non-square pixels.\n",
      "    \n",
      "        If not given, use :rc:`image.aspect` (default: 'equal').\n",
      "    \n",
      "    interpolation : str, optional\n",
      "        The interpolation method used. If *None*\n",
      "        :rc:`image.interpolation` is used, which defaults to 'nearest'.\n",
      "    \n",
      "        Supported values are 'none', 'nearest', 'bilinear', 'bicubic',\n",
      "        'spline16', 'spline36', 'hanning', 'hamming', 'hermite', 'kaiser',\n",
      "        'quadric', 'catrom', 'gaussian', 'bessel', 'mitchell', 'sinc',\n",
      "        'lanczos'.\n",
      "    \n",
      "        If *interpolation* is 'none', then no interpolation is performed\n",
      "        on the Agg, ps, pdf and svg backends. Other backends will fall back\n",
      "        to 'nearest'. Note that most SVG renders perform interpolation at\n",
      "        rendering and that the default interpolation method they implement\n",
      "        may differ.\n",
      "    \n",
      "        See\n",
      "        :doc:`/gallery/images_contours_and_fields/interpolation_methods`\n",
      "        for an overview of the supported interpolation methods.\n",
      "    \n",
      "        Some interpolation methods require an additional radius parameter,\n",
      "        which can be set by *filterrad*. Additionally, the antigrain image\n",
      "        resize filter is controlled by the parameter *filternorm*.\n",
      "    \n",
      "    alpha : scalar, optional\n",
      "        The alpha blending value, between 0 (transparent) and 1 (opaque).\n",
      "        This parameter is ignored for RGBA input data.\n",
      "    \n",
      "    vmin, vmax : scalar, optional\n",
      "        When using scalar data and no explicit *norm*, *vmin* and *vmax*\n",
      "        define the data range that the colormap covers. By default,\n",
      "        the colormap covers the complete value range of the supplied\n",
      "        data. *vmin*, *vmax* are ignored if the *norm* parameter is used.\n",
      "    \n",
      "    origin : {'upper', 'lower'}, optional\n",
      "        Place the [0,0] index of the array in the upper left or lower left\n",
      "        corner of the axes. The convention 'upper' is typically used for\n",
      "        matrices and images.\n",
      "        If not given, :rc:`image.origin` is used, defaulting to 'upper'.\n",
      "    \n",
      "        Note that the vertical axes points upward for 'lower'\n",
      "        but downward for 'upper'.\n",
      "    \n",
      "        See the :doc:`/tutorials/intermediate/imshow_extent` tutorial for\n",
      "        examples and a more detailed description.\n",
      "    \n",
      "    extent : scalars (left, right, bottom, top), optional\n",
      "        The bounding box in data coordinates that the image will fill.\n",
      "        The image is stretched individually along x and y to fill the box.\n",
      "    \n",
      "        The default extent is determined by the following conditions.\n",
      "        Pixels have unit size in data coordinates. Their centers are on\n",
      "        integer coordinates, and their center coordinates range from 0 to\n",
      "        columns-1 horizontally and from 0 to rows-1 vertically.\n",
      "    \n",
      "        Note that the direction of the vertical axis and thus the default\n",
      "        values for top and bottom depend on *origin*:\n",
      "    \n",
      "        - For ``origin == 'upper'`` the default is\n",
      "          ``(-0.5, numcols-0.5, numrows-0.5, -0.5)``.\n",
      "        - For ``origin == 'lower'`` the default is\n",
      "          ``(-0.5, numcols-0.5, -0.5, numrows-0.5)``.\n",
      "    \n",
      "        See the :doc:`/tutorials/intermediate/imshow_extent` tutorial for\n",
      "        examples and a more detailed description.\n",
      "    \n",
      "    filternorm : bool, optional, default: True\n",
      "        A parameter for the antigrain image resize filter (see the\n",
      "        antigrain documentation).  If *filternorm* is set, the filter\n",
      "        normalizes integer values and corrects the rounding errors. It\n",
      "        doesn't do anything with the source floating point values, it\n",
      "        corrects only integers according to the rule of 1.0 which means\n",
      "        that any sum of pixel weights must be equal to 1.0.  So, the\n",
      "        filter function must produce a graph of the proper shape.\n",
      "    \n",
      "    filterrad : float > 0, optional, default: 4.0\n",
      "        The filter radius for filters that have a radius parameter, i.e.\n",
      "        when interpolation is one of: 'sinc', 'lanczos' or 'blackman'.\n",
      "    \n",
      "    resample : bool, optional\n",
      "        When *True*, use a full resampling method.  When *False*, only\n",
      "        resample when the output image is larger than the input image.\n",
      "    \n",
      "    url : str, optional\n",
      "        Set the url of the created `.AxesImage`. See `.Artist.set_url`.\n",
      "    \n",
      "    Returns\n",
      "    -------\n",
      "    image : `~matplotlib.image.AxesImage`\n",
      "    \n",
      "    Other Parameters\n",
      "    ----------------\n",
      "    **kwargs : `~matplotlib.artist.Artist` properties\n",
      "        These parameters are passed on to the constructor of the\n",
      "        `.AxesImage` artist.\n",
      "    \n",
      "    See also\n",
      "    --------\n",
      "    matshow : Plot a matrix or an array as an image.\n",
      "    \n",
      "    Notes\n",
      "    -----\n",
      "    Unless *extent* is used, pixel centers will be located at integer\n",
      "    coordinates. In other words: the origin will coincide with the center\n",
      "    of pixel (0, 0).\n",
      "    \n",
      "    There are two common representations for RGB images with an alpha\n",
      "    channel:\n",
      "    \n",
      "    -   Straight (unassociated) alpha: R, G, and B channels represent the\n",
      "        color of the pixel, disregarding its opacity.\n",
      "    -   Premultiplied (associated) alpha: R, G, and B channels represent\n",
      "        the color of the pixel, adjusted for its opacity by multiplication.\n",
      "    \n",
      "    `~matplotlib.pyplot.imshow` expects RGB images adopting the straight\n",
      "    (unassociated) alpha representation.\n",
      "    \n",
      "    .. note::\n",
      "        In addition to the above described arguments, this function can take a\n",
      "        **data** keyword argument. If such a **data** argument is given, the\n",
      "        following arguments are replaced by **data[<arg>]**:\n",
      "    \n",
      "        * All positional and all keyword arguments.\n",
      "    \n",
      "        Objects passed as **data** must support item access (``data[<arg>]``) and\n",
      "        membership test (``<arg> in data``).\n",
      "\n"
     ]
    }
   ],
   "source": [
    "help(plt.imshow)"
   ]
  },
  {
   "cell_type": "code",
   "execution_count": 14,
   "metadata": {},
   "outputs": [
    {
     "data": {
      "image/png": "[encoded data removed]",
      "text/plain": [
       "<Figure size 432x288 with 1 Axes>"
      ]
     },
     "metadata": {
      "needs_background": "light"
     },
     "output_type": "display_data"
    }
   ],
   "source": [
    "ave_inflammation = numpy.mean(data, axis=0)\n",
    "ave_plot = matplotlib.pyplot.plot(ave_inflammation)\n",
    "matplotlib.pyplot.show()"
   ]
  },
  {
   "cell_type": "code",
   "execution_count": 15,
   "metadata": {},
   "outputs": [],
   "source": [
    "odd_numbers = [1,3,5,7]\n"
   ]
  },
  {
   "cell_type": "code",
   "execution_count": 16,
   "metadata": {},
   "outputs": [
    {
     "data": {
      "text/plain": [
       "[1, 3, 5, 7]"
      ]
     },
     "execution_count": 16,
     "metadata": {},
     "output_type": "execute_result"
    }
   ],
   "source": [
    "odd_numbers"
   ]
  },
  {
   "cell_type": "code",
   "execution_count": 17,
   "metadata": {},
   "outputs": [
    {
     "name": "stdout",
     "output_type": "stream",
     "text": [
      "<class 'list'>\n"
     ]
    }
   ],
   "source": [
    "print(type(odd_numbers))"
   ]
  },
  {
   "cell_type": "code",
   "execution_count": null,
   "metadata": {},
   "outputs": [],
   "source": []
  }
 ],
 "metadata": {
  "kernelspec": {
   "display_name": "Python 3",
   "language": "python",
   "name": "python3"
  },
  "language_info": {
   "codemirror_mode": {
    "name": "ipython",
    "version": 3
   },
   "file_extension": ".py",
   "mimetype": "text/x-python",
   "name": "python",
   "nbconvert_exporter": "python",
   "pygments_lexer": "ipython3",
   "version": "3.7.6"
  }
 },
 "nbformat": 4,
 "nbformat_minor": 4
}
